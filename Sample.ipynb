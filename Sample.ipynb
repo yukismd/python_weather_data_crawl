{
 "cells": [
  {
   "cell_type": "markdown",
   "metadata": {},
   "source": [
    "get_weather（ユーザー定義）パッケージ ： 使い方サンプル"
   ]
  },
  {
   "cell_type": "markdown",
   "metadata": {},
   "source": [
    "## 参考\n",
    "https://qiita.com/Cyber_Hacnosuke/items/122cec35d299c4d01f10"
   ]
  },
  {
   "cell_type": "markdown",
   "metadata": {},
   "source": [
    "## 対象サイト\n",
    "https://www.data.jma.go.jp/obd/stats/etrn/index.php"
   ]
  },
  {
   "cell_type": "markdown",
   "metadata": {},
   "source": [
    "1時間ごとのデータ取得  \n",
    "https://www.data.jma.go.jp/obd/stats/etrn/view/hourly_s1.php?prec_no=44&block_no=47662&year=2020&month=1&day=1&view=  \n",
    "  \n",
    "パラメータ\n",
    "- prec_no=44　（都道府県）\n",
    "- block_no=47662　（都市）\n",
    "- year=2020\n",
    "- month=1\n",
    "- day=1\n",
    "- view="
   ]
  },
  {
   "cell_type": "markdown",
   "metadata": {},
   "source": [
    "#### 注\n",
    "- chromedriver.exeが同PATH上に必要"
   ]
  },
  {
   "cell_type": "code",
   "execution_count": 1,
   "metadata": {},
   "outputs": [],
   "source": [
    "import pandas as pd\n",
    "import numpy as np\n",
    "import datetime\n",
    "import calendar\n",
    "\n",
    "import get_weather.get_weather as gw        # ユーザー定義パッケージ"
   ]
  },
  {
   "cell_type": "code",
   "execution_count": null,
   "metadata": {},
   "outputs": [],
   "source": []
  },
  {
   "cell_type": "markdown",
   "metadata": {},
   "source": [
    "## 例1"
   ]
  },
  {
   "cell_type": "code",
   "execution_count": 14,
   "metadata": {},
   "outputs": [
    {
     "name": "stdout",
     "output_type": "stream",
     "text": [
      "Point:590, 都道府県:34, 都市:47590, Year:2019, Month:12, Day:19\n"
     ]
    },
    {
     "data": {
      "text/plain": [
       "(24, 21)"
      ]
     },
     "execution_count": 14,
     "metadata": {},
     "output_type": "execute_result"
    }
   ],
   "source": [
    "test1 = gw.get_one_location_one_day_weather(point_num=590, prec_no=34, block_no=47590, year=2019, month=12, day=19)\n",
    "test1.shape"
   ]
  },
  {
   "cell_type": "code",
   "execution_count": 15,
   "metadata": {},
   "outputs": [
    {
     "data": {
      "text/html": [
       "<div>\n",
       "<style scoped>\n",
       "    .dataframe tbody tr th:only-of-type {\n",
       "        vertical-align: middle;\n",
       "    }\n",
       "\n",
       "    .dataframe tbody tr th {\n",
       "        vertical-align: top;\n",
       "    }\n",
       "\n",
       "    .dataframe thead th {\n",
       "        text-align: right;\n",
       "    }\n",
       "</style>\n",
       "<table border=\"1\" class=\"dataframe\">\n",
       "  <thead>\n",
       "    <tr style=\"text-align: right;\">\n",
       "      <th></th>\n",
       "      <th>現地気圧(hPa)</th>\n",
       "      <th>海面気圧(hPa)</th>\n",
       "      <th>降水量(mm)</th>\n",
       "      <th>気温(℃)</th>\n",
       "      <th>露点温度(℃)</th>\n",
       "      <th>蒸気圧(hPa)</th>\n",
       "      <th>湿度(％)</th>\n",
       "      <th>風速(m/s)</th>\n",
       "      <th>風向</th>\n",
       "      <th>日照時間(h)</th>\n",
       "      <th>...</th>\n",
       "      <th>降雪</th>\n",
       "      <th>積雪</th>\n",
       "      <th>天気</th>\n",
       "      <th>雲量</th>\n",
       "      <th>視程(km)</th>\n",
       "      <th>year</th>\n",
       "      <th>month</th>\n",
       "      <th>day</th>\n",
       "      <th>time</th>\n",
       "      <th>point_number</th>\n",
       "    </tr>\n",
       "  </thead>\n",
       "  <tbody>\n",
       "    <tr>\n",
       "      <th>0</th>\n",
       "      <td>1012.8</td>\n",
       "      <td>1018.3</td>\n",
       "      <td>--</td>\n",
       "      <td>4.1</td>\n",
       "      <td>-1.9</td>\n",
       "      <td>5.3</td>\n",
       "      <td>65</td>\n",
       "      <td>4.6</td>\n",
       "      <td>北北東</td>\n",
       "      <td></td>\n",
       "      <td>...</td>\n",
       "      <td>--</td>\n",
       "      <td>--</td>\n",
       "      <td></td>\n",
       "      <td></td>\n",
       "      <td></td>\n",
       "      <td>2019</td>\n",
       "      <td>12</td>\n",
       "      <td>19</td>\n",
       "      <td>1</td>\n",
       "      <td>590</td>\n",
       "    </tr>\n",
       "    <tr>\n",
       "      <th>1</th>\n",
       "      <td>1013.6</td>\n",
       "      <td>1019.1</td>\n",
       "      <td>--</td>\n",
       "      <td>3.9</td>\n",
       "      <td>-2.5</td>\n",
       "      <td>5.1</td>\n",
       "      <td>63</td>\n",
       "      <td>6.6</td>\n",
       "      <td>北北東</td>\n",
       "      <td></td>\n",
       "      <td>...</td>\n",
       "      <td>--</td>\n",
       "      <td>--</td>\n",
       "      <td></td>\n",
       "      <td></td>\n",
       "      <td></td>\n",
       "      <td>2019</td>\n",
       "      <td>12</td>\n",
       "      <td>19</td>\n",
       "      <td>2</td>\n",
       "      <td>590</td>\n",
       "    </tr>\n",
       "    <tr>\n",
       "      <th>2</th>\n",
       "      <td>1014.0</td>\n",
       "      <td>1019.5</td>\n",
       "      <td>--</td>\n",
       "      <td>3.9</td>\n",
       "      <td>-2.7</td>\n",
       "      <td>5.0</td>\n",
       "      <td>62</td>\n",
       "      <td>6.2</td>\n",
       "      <td>北</td>\n",
       "      <td></td>\n",
       "      <td>...</td>\n",
       "      <td>--</td>\n",
       "      <td>--</td>\n",
       "      <td></td>\n",
       "      <td>10-</td>\n",
       "      <td>20.0</td>\n",
       "      <td>2019</td>\n",
       "      <td>12</td>\n",
       "      <td>19</td>\n",
       "      <td>3</td>\n",
       "      <td>590</td>\n",
       "    </tr>\n",
       "    <tr>\n",
       "      <th>3</th>\n",
       "      <td>1014.3</td>\n",
       "      <td>1019.8</td>\n",
       "      <td>--</td>\n",
       "      <td>3.8</td>\n",
       "      <td>-2.8</td>\n",
       "      <td>5.0</td>\n",
       "      <td>62</td>\n",
       "      <td>6.9</td>\n",
       "      <td>北</td>\n",
       "      <td></td>\n",
       "      <td>...</td>\n",
       "      <td>--</td>\n",
       "      <td>--</td>\n",
       "      <td></td>\n",
       "      <td></td>\n",
       "      <td></td>\n",
       "      <td>2019</td>\n",
       "      <td>12</td>\n",
       "      <td>19</td>\n",
       "      <td>4</td>\n",
       "      <td>590</td>\n",
       "    </tr>\n",
       "    <tr>\n",
       "      <th>4</th>\n",
       "      <td>1014.6</td>\n",
       "      <td>1020.1</td>\n",
       "      <td>--</td>\n",
       "      <td>3.7</td>\n",
       "      <td>-2.9</td>\n",
       "      <td>4.9</td>\n",
       "      <td>62</td>\n",
       "      <td>5.9</td>\n",
       "      <td>北</td>\n",
       "      <td></td>\n",
       "      <td>...</td>\n",
       "      <td>--</td>\n",
       "      <td>--</td>\n",
       "      <td></td>\n",
       "      <td></td>\n",
       "      <td></td>\n",
       "      <td>2019</td>\n",
       "      <td>12</td>\n",
       "      <td>19</td>\n",
       "      <td>5</td>\n",
       "      <td>590</td>\n",
       "    </tr>\n",
       "  </tbody>\n",
       "</table>\n",
       "<p>5 rows × 21 columns</p>\n",
       "</div>"
      ],
      "text/plain": [
       "  現地気圧(hPa) 海面気圧(hPa) 降水量(mm) 気温(℃) 露点温度(℃) 蒸気圧(hPa) 湿度(％) 風速(m/s)   風向  \\\n",
       "0    1012.8    1018.3      --   4.1    -1.9      5.3    65     4.6  北北東   \n",
       "1    1013.6    1019.1      --   3.9    -2.5      5.1    63     6.6  北北東   \n",
       "2    1014.0    1019.5      --   3.9    -2.7      5.0    62     6.2    北   \n",
       "3    1014.3    1019.8      --   3.8    -2.8      5.0    62     6.9    北   \n",
       "4    1014.6    1020.1      --   3.7    -2.9      4.9    62     5.9    北   \n",
       "\n",
       "  日照時間(h)  ...  降雪  積雪 天気   雲量 視程(km)  year  month  day  time  point_number  \n",
       "0          ...  --  --                 2019     12   19     1           590  \n",
       "1          ...  --  --                 2019     12   19     2           590  \n",
       "2          ...  --  --     10-   20.0  2019     12   19     3           590  \n",
       "3          ...  --  --                 2019     12   19     4           590  \n",
       "4          ...  --  --                 2019     12   19     5           590  \n",
       "\n",
       "[5 rows x 21 columns]"
      ]
     },
     "execution_count": 15,
     "metadata": {},
     "output_type": "execute_result"
    }
   ],
   "source": [
    "test1.head()"
   ]
  },
  {
   "cell_type": "markdown",
   "metadata": {},
   "source": [
    "## 例2"
   ]
  },
  {
   "cell_type": "code",
   "execution_count": 18,
   "metadata": {},
   "outputs": [
    {
     "name": "stdout",
     "output_type": "stream",
     "text": [
      "Point:590, 都道府県:34, 都市:47590, Year:2020, Month:1, Day:1\n",
      "Point:590, 都道府県:34, 都市:47590, Year:2020, Month:2, Day:4\n",
      "Point:590, 都道府県:34, 都市:47590, Year:2020, Month:3, Day:18\n"
     ]
    },
    {
     "data": {
      "text/plain": [
       "(72, 21)"
      ]
     },
     "execution_count": 18,
     "metadata": {},
     "output_type": "execute_result"
    }
   ],
   "source": [
    "year_month_day = [(2020,1,1),(2020,2,4),(2020,3,18)]\n",
    "\n",
    "test2 = gw.get_one_location_all_day_weather(point_num=590, prec_no=34, block_no=47590, year_month_day=year_month_day)\n",
    "test2.shape"
   ]
  },
  {
   "cell_type": "code",
   "execution_count": 19,
   "metadata": {},
   "outputs": [
    {
     "data": {
      "text/html": [
       "<div>\n",
       "<style scoped>\n",
       "    .dataframe tbody tr th:only-of-type {\n",
       "        vertical-align: middle;\n",
       "    }\n",
       "\n",
       "    .dataframe tbody tr th {\n",
       "        vertical-align: top;\n",
       "    }\n",
       "\n",
       "    .dataframe thead th {\n",
       "        text-align: right;\n",
       "    }\n",
       "</style>\n",
       "<table border=\"1\" class=\"dataframe\">\n",
       "  <thead>\n",
       "    <tr style=\"text-align: right;\">\n",
       "      <th></th>\n",
       "      <th>現地気圧(hPa)</th>\n",
       "      <th>海面気圧(hPa)</th>\n",
       "      <th>降水量(mm)</th>\n",
       "      <th>気温(℃)</th>\n",
       "      <th>露点温度(℃)</th>\n",
       "      <th>蒸気圧(hPa)</th>\n",
       "      <th>湿度(％)</th>\n",
       "      <th>風速(m/s)</th>\n",
       "      <th>風向</th>\n",
       "      <th>日照時間(h)</th>\n",
       "      <th>...</th>\n",
       "      <th>降雪</th>\n",
       "      <th>積雪</th>\n",
       "      <th>天気</th>\n",
       "      <th>雲量</th>\n",
       "      <th>視程(km)</th>\n",
       "      <th>year</th>\n",
       "      <th>month</th>\n",
       "      <th>day</th>\n",
       "      <th>time</th>\n",
       "      <th>point_number</th>\n",
       "    </tr>\n",
       "  </thead>\n",
       "  <tbody>\n",
       "    <tr>\n",
       "      <th>0</th>\n",
       "      <td>1011.9</td>\n",
       "      <td>1017.4</td>\n",
       "      <td>--</td>\n",
       "      <td>2.3</td>\n",
       "      <td>-7.3</td>\n",
       "      <td>3.5</td>\n",
       "      <td>49</td>\n",
       "      <td>4.7</td>\n",
       "      <td>西</td>\n",
       "      <td></td>\n",
       "      <td>...</td>\n",
       "      <td>--</td>\n",
       "      <td>--</td>\n",
       "      <td></td>\n",
       "      <td></td>\n",
       "      <td></td>\n",
       "      <td>2020</td>\n",
       "      <td>1</td>\n",
       "      <td>1</td>\n",
       "      <td>1</td>\n",
       "      <td>590</td>\n",
       "    </tr>\n",
       "    <tr>\n",
       "      <th>1</th>\n",
       "      <td>1012.6</td>\n",
       "      <td>1018.1</td>\n",
       "      <td>--</td>\n",
       "      <td>2.3</td>\n",
       "      <td>-6.8</td>\n",
       "      <td>3.7</td>\n",
       "      <td>51</td>\n",
       "      <td>4.2</td>\n",
       "      <td>西北西</td>\n",
       "      <td></td>\n",
       "      <td>...</td>\n",
       "      <td>--</td>\n",
       "      <td>--</td>\n",
       "      <td></td>\n",
       "      <td></td>\n",
       "      <td></td>\n",
       "      <td>2020</td>\n",
       "      <td>1</td>\n",
       "      <td>1</td>\n",
       "      <td>2</td>\n",
       "      <td>590</td>\n",
       "    </tr>\n",
       "    <tr>\n",
       "      <th>2</th>\n",
       "      <td>1013.0</td>\n",
       "      <td>1018.5</td>\n",
       "      <td>--</td>\n",
       "      <td>2.0</td>\n",
       "      <td>-6.1</td>\n",
       "      <td>3.9</td>\n",
       "      <td>55</td>\n",
       "      <td>4.1</td>\n",
       "      <td>北西</td>\n",
       "      <td></td>\n",
       "      <td>...</td>\n",
       "      <td>--</td>\n",
       "      <td>--</td>\n",
       "      <td></td>\n",
       "      <td>9</td>\n",
       "      <td>20.0</td>\n",
       "      <td>2020</td>\n",
       "      <td>1</td>\n",
       "      <td>1</td>\n",
       "      <td>3</td>\n",
       "      <td>590</td>\n",
       "    </tr>\n",
       "    <tr>\n",
       "      <th>3</th>\n",
       "      <td>1013.4</td>\n",
       "      <td>1018.9</td>\n",
       "      <td>--</td>\n",
       "      <td>2.5</td>\n",
       "      <td>-6.6</td>\n",
       "      <td>3.7</td>\n",
       "      <td>51</td>\n",
       "      <td>3.6</td>\n",
       "      <td>西北西</td>\n",
       "      <td></td>\n",
       "      <td>...</td>\n",
       "      <td>--</td>\n",
       "      <td>--</td>\n",
       "      <td></td>\n",
       "      <td></td>\n",
       "      <td></td>\n",
       "      <td>2020</td>\n",
       "      <td>1</td>\n",
       "      <td>1</td>\n",
       "      <td>4</td>\n",
       "      <td>590</td>\n",
       "    </tr>\n",
       "    <tr>\n",
       "      <th>4</th>\n",
       "      <td>1014.1</td>\n",
       "      <td>1019.6</td>\n",
       "      <td>--</td>\n",
       "      <td>2.2</td>\n",
       "      <td>-6.4</td>\n",
       "      <td>3.8</td>\n",
       "      <td>53</td>\n",
       "      <td>4.2</td>\n",
       "      <td>西北西</td>\n",
       "      <td></td>\n",
       "      <td>...</td>\n",
       "      <td>--</td>\n",
       "      <td>--</td>\n",
       "      <td></td>\n",
       "      <td></td>\n",
       "      <td></td>\n",
       "      <td>2020</td>\n",
       "      <td>1</td>\n",
       "      <td>1</td>\n",
       "      <td>5</td>\n",
       "      <td>590</td>\n",
       "    </tr>\n",
       "  </tbody>\n",
       "</table>\n",
       "<p>5 rows × 21 columns</p>\n",
       "</div>"
      ],
      "text/plain": [
       "  現地気圧(hPa) 海面気圧(hPa) 降水量(mm) 気温(℃) 露点温度(℃) 蒸気圧(hPa) 湿度(％) 風速(m/s)   風向  \\\n",
       "0    1011.9    1017.4      --   2.3    -7.3      3.5    49     4.7    西   \n",
       "1    1012.6    1018.1      --   2.3    -6.8      3.7    51     4.2  西北西   \n",
       "2    1013.0    1018.5      --   2.0    -6.1      3.9    55     4.1   北西   \n",
       "3    1013.4    1018.9      --   2.5    -6.6      3.7    51     3.6  西北西   \n",
       "4    1014.1    1019.6      --   2.2    -6.4      3.8    53     4.2  西北西   \n",
       "\n",
       "  日照時間(h)  ...  降雪  積雪 天気 雲量 視程(km)  year  month  day  time  point_number  \n",
       "0          ...  --  --               2020      1    1     1           590  \n",
       "1          ...  --  --               2020      1    1     2           590  \n",
       "2          ...  --  --     9   20.0  2020      1    1     3           590  \n",
       "3          ...  --  --               2020      1    1     4           590  \n",
       "4          ...  --  --               2020      1    1     5           590  \n",
       "\n",
       "[5 rows x 21 columns]"
      ]
     },
     "execution_count": 19,
     "metadata": {},
     "output_type": "execute_result"
    }
   ],
   "source": [
    "test2.head()"
   ]
  },
  {
   "cell_type": "markdown",
   "metadata": {},
   "source": [
    "## 例3"
   ]
  },
  {
   "cell_type": "code",
   "execution_count": 2,
   "metadata": {},
   "outputs": [
    {
     "name": "stdout",
     "output_type": "stream",
     "text": [
      "(337, 16)\n",
      "(124, 16)\n",
      "(72, 4)\n"
     ]
    }
   ],
   "source": [
    "location_master = pd.read_csv('../LOCATION_MASTER_USEFLG.csv', encoding='sjis')\n",
    "print(location_master.shape)\n",
    "location_master = location_master[location_master['use_flg']==1]\n",
    "print(location_master.shape)\n",
    "location_master = location_master[['point_number','block_no','number']].drop_duplicates().reset_index()\n",
    "print(location_master.shape)"
   ]
  },
  {
   "cell_type": "code",
   "execution_count": 3,
   "metadata": {},
   "outputs": [
    {
     "data": {
      "text/html": [
       "<div>\n",
       "<style scoped>\n",
       "    .dataframe tbody tr th:only-of-type {\n",
       "        vertical-align: middle;\n",
       "    }\n",
       "\n",
       "    .dataframe tbody tr th {\n",
       "        vertical-align: top;\n",
       "    }\n",
       "\n",
       "    .dataframe thead th {\n",
       "        text-align: right;\n",
       "    }\n",
       "</style>\n",
       "<table border=\"1\" class=\"dataframe\">\n",
       "  <thead>\n",
       "    <tr style=\"text-align: right;\">\n",
       "      <th></th>\n",
       "      <th>index</th>\n",
       "      <th>point_number</th>\n",
       "      <th>block_no</th>\n",
       "      <th>number</th>\n",
       "    </tr>\n",
       "  </thead>\n",
       "  <tbody>\n",
       "    <tr>\n",
       "      <th>0</th>\n",
       "      <td>90</td>\n",
       "      <td>590</td>\n",
       "      <td>47590</td>\n",
       "      <td>34.0</td>\n",
       "    </tr>\n",
       "    <tr>\n",
       "      <th>1</th>\n",
       "      <td>93</td>\n",
       "      <td>595</td>\n",
       "      <td>47595</td>\n",
       "      <td>36.0</td>\n",
       "    </tr>\n",
       "    <tr>\n",
       "      <th>2</th>\n",
       "      <td>94</td>\n",
       "      <td>597</td>\n",
       "      <td>47597</td>\n",
       "      <td>36.0</td>\n",
       "    </tr>\n",
       "    <tr>\n",
       "      <th>3</th>\n",
       "      <td>97</td>\n",
       "      <td>598</td>\n",
       "      <td>47598</td>\n",
       "      <td>36.0</td>\n",
       "    </tr>\n",
       "    <tr>\n",
       "      <th>4</th>\n",
       "      <td>107</td>\n",
       "      <td>605</td>\n",
       "      <td>47605</td>\n",
       "      <td>56.0</td>\n",
       "    </tr>\n",
       "  </tbody>\n",
       "</table>\n",
       "</div>"
      ],
      "text/plain": [
       "   index  point_number  block_no  number\n",
       "0     90           590     47590    34.0\n",
       "1     93           595     47595    36.0\n",
       "2     94           597     47597    36.0\n",
       "3     97           598     47598    36.0\n",
       "4    107           605     47605    56.0"
      ]
     },
     "execution_count": 3,
     "metadata": {},
     "output_type": "execute_result"
    }
   ],
   "source": [
    "location_master.head()\n",
    "\n",
    "# point_number:観測地点, block_no:都市番号, number:都道府県番号"
   ]
  },
  {
   "cell_type": "code",
   "execution_count": 10,
   "metadata": {},
   "outputs": [
    {
     "data": {
      "text/plain": [
       "[[0, 0, 1, 2, 3, 4, 5],\n",
       " [6, 7, 8, 9, 10, 11, 12],\n",
       " [13, 14, 15, 16, 17, 18, 19],\n",
       " [20, 21, 22, 23, 24, 25, 26],\n",
       " [27, 28, 29, 30, 31, 0, 0]]"
      ]
     },
     "execution_count": 10,
     "metadata": {},
     "output_type": "execute_result"
    }
   ],
   "source": [
    "c = calendar.Calendar(firstweekday=0)\n",
    "c.monthdayscalendar(2020, 1)"
   ]
  },
  {
   "cell_type": "code",
   "execution_count": 11,
   "metadata": {},
   "outputs": [],
   "source": [
    "def return_y_m_d_tuple_list(y, m):\n",
    "    days_tmp = list(np.array(c.monthdayscalendar(y, m)).flatten())\n",
    "    days = [day for day in days_tmp if day!=0]\n",
    "    return [(y, m, d) for d in days]"
   ]
  },
  {
   "cell_type": "code",
   "execution_count": 12,
   "metadata": {},
   "outputs": [
    {
     "data": {
      "text/plain": [
       "152"
      ]
     },
     "execution_count": 12,
     "metadata": {},
     "output_type": "execute_result"
    }
   ],
   "source": [
    "day_list = return_y_m_d_tuple_list(2019,12)\n",
    "\n",
    "for i in return_y_m_d_tuple_list(2020,1):\n",
    "    day_list.append(i)\n",
    "for i in return_y_m_d_tuple_list(2020,2):\n",
    "    day_list.append(i)\n",
    "for i in return_y_m_d_tuple_list(2020,3):\n",
    "    day_list.append(i)\n",
    "for i in return_y_m_d_tuple_list(2020,4):\n",
    "    day_list.append(i)\n",
    "len(day_list)"
   ]
  },
  {
   "cell_type": "code",
   "execution_count": 13,
   "metadata": {},
   "outputs": [
    {
     "data": {
      "text/plain": [
       "127"
      ]
     },
     "execution_count": 13,
     "metadata": {},
     "output_type": "execute_result"
    }
   ],
   "source": [
    "day_list_final = day_list[18:145]    # 本番用データ期間\n",
    "len(day_list_final)"
   ]
  },
  {
   "cell_type": "code",
   "execution_count": 14,
   "metadata": {},
   "outputs": [
    {
     "data": {
      "text/plain": [
       "[(2019, 12, 19), (2019, 12, 20), (2019, 12, 21)]"
      ]
     },
     "execution_count": 14,
     "metadata": {},
     "output_type": "execute_result"
    }
   ],
   "source": [
    "day_list_final[:3]"
   ]
  },
  {
   "cell_type": "code",
   "execution_count": 15,
   "metadata": {},
   "outputs": [
    {
     "data": {
      "text/html": [
       "<div>\n",
       "<style scoped>\n",
       "    .dataframe tbody tr th:only-of-type {\n",
       "        vertical-align: middle;\n",
       "    }\n",
       "\n",
       "    .dataframe tbody tr th {\n",
       "        vertical-align: top;\n",
       "    }\n",
       "\n",
       "    .dataframe thead th {\n",
       "        text-align: right;\n",
       "    }\n",
       "</style>\n",
       "<table border=\"1\" class=\"dataframe\">\n",
       "  <thead>\n",
       "    <tr style=\"text-align: right;\">\n",
       "      <th></th>\n",
       "      <th>index</th>\n",
       "      <th>point_number</th>\n",
       "      <th>block_no</th>\n",
       "      <th>number</th>\n",
       "    </tr>\n",
       "  </thead>\n",
       "  <tbody>\n",
       "    <tr>\n",
       "      <th>0</th>\n",
       "      <td>90</td>\n",
       "      <td>590</td>\n",
       "      <td>47590</td>\n",
       "      <td>34.0</td>\n",
       "    </tr>\n",
       "    <tr>\n",
       "      <th>1</th>\n",
       "      <td>93</td>\n",
       "      <td>595</td>\n",
       "      <td>47595</td>\n",
       "      <td>36.0</td>\n",
       "    </tr>\n",
       "    <tr>\n",
       "      <th>2</th>\n",
       "      <td>94</td>\n",
       "      <td>597</td>\n",
       "      <td>47597</td>\n",
       "      <td>36.0</td>\n",
       "    </tr>\n",
       "  </tbody>\n",
       "</table>\n",
       "</div>"
      ],
      "text/plain": [
       "   index  point_number  block_no  number\n",
       "0     90           590     47590    34.0\n",
       "1     93           595     47595    36.0\n",
       "2     94           597     47597    36.0"
      ]
     },
     "execution_count": 15,
     "metadata": {},
     "output_type": "execute_result"
    }
   ],
   "source": [
    "location_master_TEST = location_master.iloc[:3,:]\n",
    "location_master_TEST"
   ]
  },
  {
   "cell_type": "code",
   "execution_count": 16,
   "metadata": {
    "scrolled": true
   },
   "outputs": [
    {
     "name": "stdout",
     "output_type": "stream",
     "text": [
      "2020-05-02 03:42:12.339118\n",
      "Point:590, 都道府県:34, 都市:47590, Year:2019, Month:12, Day:19\n",
      "Point:590, 都道府県:34, 都市:47590, Year:2019, Month:12, Day:20\n",
      "Point:590, 都道府県:34, 都市:47590, Year:2019, Month:12, Day:21\n",
      "Point:590, 都道府県:34, 都市:47590, Year:2019, Month:12, Day:22\n",
      "2020-05-02 03:43:00.423357\n",
      "Point:595, 都道府県:36, 都市:47595, Year:2019, Month:12, Day:19\n",
      "Point:595, 都道府県:36, 都市:47595, Year:2019, Month:12, Day:20\n",
      "Point:595, 都道府県:36, 都市:47595, Year:2019, Month:12, Day:21\n",
      "Point:595, 都道府県:36, 都市:47595, Year:2019, Month:12, Day:22\n",
      "2020-05-02 03:43:46.271142\n",
      "Point:597, 都道府県:36, 都市:47597, Year:2019, Month:12, Day:19\n",
      "Point:597, 都道府県:36, 都市:47597, Year:2019, Month:12, Day:20\n",
      "Point:597, 都道府県:36, 都市:47597, Year:2019, Month:12, Day:21\n",
      "Point:597, 都道府県:36, 都市:47597, Year:2019, Month:12, Day:22\n"
     ]
    }
   ],
   "source": [
    "for row_index in range(location_master_TEST.shape[0]):   # DataFrameの行でループ\n",
    "    #print(row_index)\n",
    "    #print(location_master_TEST.iloc[row_index,:])\n",
    "    \n",
    "    print(datetime.datetime.now())\n",
    "    \n",
    "    point = location_master_TEST['point_number'][row_index]\n",
    "    prec = location_master_TEST['number'][row_index]\n",
    "    block = location_master_TEST['block_no'][row_index]\n",
    "    \n",
    "    # テスト実施。4日分のみ（day_list_final[:4]）\n",
    "    dataframe_tmp = gw.get_one_location_all_day_weather(point_num=point, prec_no=prec, block_no=block, year_month_day=day_list_final[:4])\n",
    "    \n",
    "    save_file_name = str(point) + '.csv'\n",
    "    dataframe_tmp.to_csv('../out_sample/'+save_file_name, index=False)"
   ]
  },
  {
   "cell_type": "code",
   "execution_count": null,
   "metadata": {},
   "outputs": [],
   "source": []
  }
 ],
 "metadata": {
  "kernelspec": {
   "display_name": "Python 3",
   "language": "python",
   "name": "python3"
  },
  "language_info": {
   "codemirror_mode": {
    "name": "ipython",
    "version": 3
   },
   "file_extension": ".py",
   "mimetype": "text/x-python",
   "name": "python",
   "nbconvert_exporter": "python",
   "pygments_lexer": "ipython3",
   "version": "3.7.7"
  }
 },
 "nbformat": 4,
 "nbformat_minor": 4
}
