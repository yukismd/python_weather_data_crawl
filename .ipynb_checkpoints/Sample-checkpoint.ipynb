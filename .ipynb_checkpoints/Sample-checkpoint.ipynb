{
 "cells": [
  {
   "cell_type": "markdown",
   "metadata": {},
   "source": [
    "get_weather（ユーザー定義）パッケージ ： 使い方サンプル"
   ]
  },
  {
   "cell_type": "markdown",
   "metadata": {},
   "source": [
    "## 参考\n",
    "https://qiita.com/Cyber_Hacnosuke/items/122cec35d299c4d01f10"
   ]
  },
  {
   "cell_type": "markdown",
   "metadata": {},
   "source": [
    "## 対象サイト\n",
    "https://www.data.jma.go.jp/obd/stats/etrn/index.php"
   ]
  },
  {
   "cell_type": "markdown",
   "metadata": {},
   "source": [
    "1時間ごとのデータ取得  \n",
    "https://www.data.jma.go.jp/obd/stats/etrn/view/hourly_s1.php?prec_no=44&block_no=47662&year=2020&month=1&day=1&view=  \n",
    "  \n",
    "パラメータ\n",
    "- prec_no=44　（都道府県）\n",
    "- block_no=47662　（都市）\n",
    "- year=2020\n",
    "- month=1\n",
    "- day=1\n",
    "- view="
   ]
  },
  {
   "cell_type": "markdown",
   "metadata": {},
   "source": [
    "#### 注\n",
    "- chromedriver.exeが同PATH上に必要"
   ]
  },
  {
   "cell_type": "code",
   "execution_count": 2,
   "metadata": {},
   "outputs": [],
   "source": [
    "import pandas as pd\n",
    "import numpy as np\n",
    "import datetime\n",
    "import calendar\n",
    "\n",
    "import get_weather.crawl as gw        # ユーザー定義パッケージ"
   ]
  },
  {
   "cell_type": "code",
   "execution_count": null,
   "metadata": {},
   "outputs": [],
   "source": []
  },
  {
   "cell_type": "markdown",
   "metadata": {},
   "source": [
    "## 例1"
   ]
  },
  {
   "cell_type": "code",
   "execution_count": 4,
   "metadata": {},
   "outputs": [
    {
     "name": "stdout",
     "output_type": "stream",
     "text": [
      "Point:590, 都道府県:34, 都市:47590, Year:2019, Month:12, Day:19\n"
     ]
    },
    {
     "data": {
      "text/plain": [
       "(24, 21)"
      ]
     },
     "execution_count": 4,
     "metadata": {},
     "output_type": "execute_result"
    }
   ],
   "source": [
    "test1 = gw.get_one_location_one_day_weather(point_num=590, prec_no=34, block_no=47590, year=2019, month=12, day=19)\n",
    "test1.shape"
   ]
  },
  {
   "cell_type": "code",
   "execution_count": 5,
   "metadata": {},
   "outputs": [
    {
     "data": {
      "text/html": [
       "<div>\n",
       "<style scoped>\n",
       "    .dataframe tbody tr th:only-of-type {\n",
       "        vertical-align: middle;\n",
       "    }\n",
       "\n",
       "    .dataframe tbody tr th {\n",
       "        vertical-align: top;\n",
       "    }\n",
       "\n",
       "    .dataframe thead th {\n",
       "        text-align: right;\n",
       "    }\n",
       "</style>\n",
       "<table border=\"1\" class=\"dataframe\">\n",
       "  <thead>\n",
       "    <tr style=\"text-align: right;\">\n",
       "      <th></th>\n",
       "      <th>現地気圧(hPa)</th>\n",
       "      <th>海面気圧(hPa)</th>\n",
       "      <th>降水量(mm)</th>\n",
       "      <th>気温(℃)</th>\n",
       "      <th>露点温度(℃)</th>\n",
       "      <th>蒸気圧(hPa)</th>\n",
       "      <th>湿度(％)</th>\n",
       "      <th>風速(m/s)</th>\n",
       "      <th>風向</th>\n",
       "      <th>日照時間(h)</th>\n",
       "      <th>...</th>\n",
       "      <th>降雪</th>\n",
       "      <th>積雪</th>\n",
       "      <th>天気</th>\n",
       "      <th>雲量</th>\n",
       "      <th>視程(km)</th>\n",
       "      <th>year</th>\n",
       "      <th>month</th>\n",
       "      <th>day</th>\n",
       "      <th>time</th>\n",
       "      <th>point_number</th>\n",
       "    </tr>\n",
       "  </thead>\n",
       "  <tbody>\n",
       "    <tr>\n",
       "      <th>0</th>\n",
       "      <td>1012.8</td>\n",
       "      <td>1018.3</td>\n",
       "      <td>--</td>\n",
       "      <td>4.1</td>\n",
       "      <td>-1.9</td>\n",
       "      <td>5.3</td>\n",
       "      <td>65</td>\n",
       "      <td>4.6</td>\n",
       "      <td>北北東</td>\n",
       "      <td></td>\n",
       "      <td>...</td>\n",
       "      <td>--</td>\n",
       "      <td>--</td>\n",
       "      <td></td>\n",
       "      <td></td>\n",
       "      <td></td>\n",
       "      <td>2019</td>\n",
       "      <td>12</td>\n",
       "      <td>19</td>\n",
       "      <td>1</td>\n",
       "      <td>590</td>\n",
       "    </tr>\n",
       "    <tr>\n",
       "      <th>1</th>\n",
       "      <td>1013.6</td>\n",
       "      <td>1019.1</td>\n",
       "      <td>--</td>\n",
       "      <td>3.9</td>\n",
       "      <td>-2.5</td>\n",
       "      <td>5.1</td>\n",
       "      <td>63</td>\n",
       "      <td>6.6</td>\n",
       "      <td>北北東</td>\n",
       "      <td></td>\n",
       "      <td>...</td>\n",
       "      <td>--</td>\n",
       "      <td>--</td>\n",
       "      <td></td>\n",
       "      <td></td>\n",
       "      <td></td>\n",
       "      <td>2019</td>\n",
       "      <td>12</td>\n",
       "      <td>19</td>\n",
       "      <td>2</td>\n",
       "      <td>590</td>\n",
       "    </tr>\n",
       "    <tr>\n",
       "      <th>2</th>\n",
       "      <td>1014.0</td>\n",
       "      <td>1019.5</td>\n",
       "      <td>--</td>\n",
       "      <td>3.9</td>\n",
       "      <td>-2.7</td>\n",
       "      <td>5.0</td>\n",
       "      <td>62</td>\n",
       "      <td>6.2</td>\n",
       "      <td>北</td>\n",
       "      <td></td>\n",
       "      <td>...</td>\n",
       "      <td>--</td>\n",
       "      <td>--</td>\n",
       "      <td></td>\n",
       "      <td>10-</td>\n",
       "      <td>20.0</td>\n",
       "      <td>2019</td>\n",
       "      <td>12</td>\n",
       "      <td>19</td>\n",
       "      <td>3</td>\n",
       "      <td>590</td>\n",
       "    </tr>\n",
       "    <tr>\n",
       "      <th>3</th>\n",
       "      <td>1014.3</td>\n",
       "      <td>1019.8</td>\n",
       "      <td>--</td>\n",
       "      <td>3.8</td>\n",
       "      <td>-2.8</td>\n",
       "      <td>5.0</td>\n",
       "      <td>62</td>\n",
       "      <td>6.9</td>\n",
       "      <td>北</td>\n",
       "      <td></td>\n",
       "      <td>...</td>\n",
       "      <td>--</td>\n",
       "      <td>--</td>\n",
       "      <td></td>\n",
       "      <td></td>\n",
       "      <td></td>\n",
       "      <td>2019</td>\n",
       "      <td>12</td>\n",
       "      <td>19</td>\n",
       "      <td>4</td>\n",
       "      <td>590</td>\n",
       "    </tr>\n",
       "    <tr>\n",
       "      <th>4</th>\n",
       "      <td>1014.6</td>\n",
       "      <td>1020.1</td>\n",
       "      <td>--</td>\n",
       "      <td>3.7</td>\n",
       "      <td>-2.9</td>\n",
       "      <td>4.9</td>\n",
       "      <td>62</td>\n",
       "      <td>5.9</td>\n",
       "      <td>北</td>\n",
       "      <td></td>\n",
       "      <td>...</td>\n",
       "      <td>--</td>\n",
       "      <td>--</td>\n",
       "      <td></td>\n",
       "      <td></td>\n",
       "      <td></td>\n",
       "      <td>2019</td>\n",
       "      <td>12</td>\n",
       "      <td>19</td>\n",
       "      <td>5</td>\n",
       "      <td>590</td>\n",
       "    </tr>\n",
       "  </tbody>\n",
       "</table>\n",
       "<p>5 rows × 21 columns</p>\n",
       "</div>"
      ],
      "text/plain": [
       "  現地気圧(hPa) 海面気圧(hPa) 降水量(mm) 気温(℃) 露点温度(℃) 蒸気圧(hPa) 湿度(％) 風速(m/s)   風向  \\\n",
       "0    1012.8    1018.3      --   4.1    -1.9      5.3    65     4.6  北北東   \n",
       "1    1013.6    1019.1      --   3.9    -2.5      5.1    63     6.6  北北東   \n",
       "2    1014.0    1019.5      --   3.9    -2.7      5.0    62     6.2    北   \n",
       "3    1014.3    1019.8      --   3.8    -2.8      5.0    62     6.9    北   \n",
       "4    1014.6    1020.1      --   3.7    -2.9      4.9    62     5.9    北   \n",
       "\n",
       "  日照時間(h)  ...  降雪  積雪 天気   雲量 視程(km)  year  month  day  time  point_number  \n",
       "0          ...  --  --                 2019     12   19     1           590  \n",
       "1          ...  --  --                 2019     12   19     2           590  \n",
       "2          ...  --  --     10-   20.0  2019     12   19     3           590  \n",
       "3          ...  --  --                 2019     12   19     4           590  \n",
       "4          ...  --  --                 2019     12   19     5           590  \n",
       "\n",
       "[5 rows x 21 columns]"
      ]
     },
     "execution_count": 5,
     "metadata": {},
     "output_type": "execute_result"
    }
   ],
   "source": [
    "test1.head()"
   ]
  },
  {
   "cell_type": "markdown",
   "metadata": {},
   "source": [
    "## 例2"
   ]
  },
  {
   "cell_type": "code",
   "execution_count": 6,
   "metadata": {},
   "outputs": [
    {
     "name": "stdout",
     "output_type": "stream",
     "text": [
      "Point:590, 都道府県:34, 都市:47590, Year:2020, Month:1, Day:1\n",
      "Point:590, 都道府県:34, 都市:47590, Year:2020, Month:2, Day:4\n",
      "Point:590, 都道府県:34, 都市:47590, Year:2020, Month:3, Day:18\n"
     ]
    },
    {
     "data": {
      "text/plain": [
       "(72, 21)"
      ]
     },
     "execution_count": 6,
     "metadata": {},
     "output_type": "execute_result"
    }
   ],
   "source": [
    "year_month_day = [(2020,1,1),(2020,2,4),(2020,3,18)]\n",
    "\n",
    "test2 = gw.get_one_location_all_day_weather(point_num=590, prec_no=34, block_no=47590, year_month_day=year_month_day)\n",
    "test2.shape"
   ]
  },
  {
   "cell_type": "code",
   "execution_count": 7,
   "metadata": {},
   "outputs": [
    {
     "data": {
      "text/html": [
       "<div>\n",
       "<style scoped>\n",
       "    .dataframe tbody tr th:only-of-type {\n",
       "        vertical-align: middle;\n",
       "    }\n",
       "\n",
       "    .dataframe tbody tr th {\n",
       "        vertical-align: top;\n",
       "    }\n",
       "\n",
       "    .dataframe thead th {\n",
       "        text-align: right;\n",
       "    }\n",
       "</style>\n",
       "<table border=\"1\" class=\"dataframe\">\n",
       "  <thead>\n",
       "    <tr style=\"text-align: right;\">\n",
       "      <th></th>\n",
       "      <th>現地気圧(hPa)</th>\n",
       "      <th>海面気圧(hPa)</th>\n",
       "      <th>降水量(mm)</th>\n",
       "      <th>気温(℃)</th>\n",
       "      <th>露点温度(℃)</th>\n",
       "      <th>蒸気圧(hPa)</th>\n",
       "      <th>湿度(％)</th>\n",
       "      <th>風速(m/s)</th>\n",
       "      <th>風向</th>\n",
       "      <th>日照時間(h)</th>\n",
       "      <th>...</th>\n",
       "      <th>降雪</th>\n",
       "      <th>積雪</th>\n",
       "      <th>天気</th>\n",
       "      <th>雲量</th>\n",
       "      <th>視程(km)</th>\n",
       "      <th>year</th>\n",
       "      <th>month</th>\n",
       "      <th>day</th>\n",
       "      <th>time</th>\n",
       "      <th>point_number</th>\n",
       "    </tr>\n",
       "  </thead>\n",
       "  <tbody>\n",
       "    <tr>\n",
       "      <th>0</th>\n",
       "      <td>1011.9</td>\n",
       "      <td>1017.4</td>\n",
       "      <td>--</td>\n",
       "      <td>2.3</td>\n",
       "      <td>-7.3</td>\n",
       "      <td>3.5</td>\n",
       "      <td>49</td>\n",
       "      <td>4.7</td>\n",
       "      <td>西</td>\n",
       "      <td></td>\n",
       "      <td>...</td>\n",
       "      <td>--</td>\n",
       "      <td>--</td>\n",
       "      <td></td>\n",
       "      <td></td>\n",
       "      <td></td>\n",
       "      <td>2020</td>\n",
       "      <td>1</td>\n",
       "      <td>1</td>\n",
       "      <td>1</td>\n",
       "      <td>590</td>\n",
       "    </tr>\n",
       "    <tr>\n",
       "      <th>1</th>\n",
       "      <td>1012.6</td>\n",
       "      <td>1018.1</td>\n",
       "      <td>--</td>\n",
       "      <td>2.3</td>\n",
       "      <td>-6.8</td>\n",
       "      <td>3.7</td>\n",
       "      <td>51</td>\n",
       "      <td>4.2</td>\n",
       "      <td>西北西</td>\n",
       "      <td></td>\n",
       "      <td>...</td>\n",
       "      <td>--</td>\n",
       "      <td>--</td>\n",
       "      <td></td>\n",
       "      <td></td>\n",
       "      <td></td>\n",
       "      <td>2020</td>\n",
       "      <td>1</td>\n",
       "      <td>1</td>\n",
       "      <td>2</td>\n",
       "      <td>590</td>\n",
       "    </tr>\n",
       "    <tr>\n",
       "      <th>2</th>\n",
       "      <td>1013.0</td>\n",
       "      <td>1018.5</td>\n",
       "      <td>--</td>\n",
       "      <td>2.0</td>\n",
       "      <td>-6.1</td>\n",
       "      <td>3.9</td>\n",
       "      <td>55</td>\n",
       "      <td>4.1</td>\n",
       "      <td>北西</td>\n",
       "      <td></td>\n",
       "      <td>...</td>\n",
       "      <td>--</td>\n",
       "      <td>--</td>\n",
       "      <td></td>\n",
       "      <td>9</td>\n",
       "      <td>20.0</td>\n",
       "      <td>2020</td>\n",
       "      <td>1</td>\n",
       "      <td>1</td>\n",
       "      <td>3</td>\n",
       "      <td>590</td>\n",
       "    </tr>\n",
       "    <tr>\n",
       "      <th>3</th>\n",
       "      <td>1013.4</td>\n",
       "      <td>1018.9</td>\n",
       "      <td>--</td>\n",
       "      <td>2.5</td>\n",
       "      <td>-6.6</td>\n",
       "      <td>3.7</td>\n",
       "      <td>51</td>\n",
       "      <td>3.6</td>\n",
       "      <td>西北西</td>\n",
       "      <td></td>\n",
       "      <td>...</td>\n",
       "      <td>--</td>\n",
       "      <td>--</td>\n",
       "      <td></td>\n",
       "      <td></td>\n",
       "      <td></td>\n",
       "      <td>2020</td>\n",
       "      <td>1</td>\n",
       "      <td>1</td>\n",
       "      <td>4</td>\n",
       "      <td>590</td>\n",
       "    </tr>\n",
       "    <tr>\n",
       "      <th>4</th>\n",
       "      <td>1014.1</td>\n",
       "      <td>1019.6</td>\n",
       "      <td>--</td>\n",
       "      <td>2.2</td>\n",
       "      <td>-6.4</td>\n",
       "      <td>3.8</td>\n",
       "      <td>53</td>\n",
       "      <td>4.2</td>\n",
       "      <td>西北西</td>\n",
       "      <td></td>\n",
       "      <td>...</td>\n",
       "      <td>--</td>\n",
       "      <td>--</td>\n",
       "      <td></td>\n",
       "      <td></td>\n",
       "      <td></td>\n",
       "      <td>2020</td>\n",
       "      <td>1</td>\n",
       "      <td>1</td>\n",
       "      <td>5</td>\n",
       "      <td>590</td>\n",
       "    </tr>\n",
       "  </tbody>\n",
       "</table>\n",
       "<p>5 rows × 21 columns</p>\n",
       "</div>"
      ],
      "text/plain": [
       "  現地気圧(hPa) 海面気圧(hPa) 降水量(mm) 気温(℃) 露点温度(℃) 蒸気圧(hPa) 湿度(％) 風速(m/s)   風向  \\\n",
       "0    1011.9    1017.4      --   2.3    -7.3      3.5    49     4.7    西   \n",
       "1    1012.6    1018.1      --   2.3    -6.8      3.7    51     4.2  西北西   \n",
       "2    1013.0    1018.5      --   2.0    -6.1      3.9    55     4.1   北西   \n",
       "3    1013.4    1018.9      --   2.5    -6.6      3.7    51     3.6  西北西   \n",
       "4    1014.1    1019.6      --   2.2    -6.4      3.8    53     4.2  西北西   \n",
       "\n",
       "  日照時間(h)  ...  降雪  積雪 天気 雲量 視程(km)  year  month  day  time  point_number  \n",
       "0          ...  --  --               2020      1    1     1           590  \n",
       "1          ...  --  --               2020      1    1     2           590  \n",
       "2          ...  --  --     9   20.0  2020      1    1     3           590  \n",
       "3          ...  --  --               2020      1    1     4           590  \n",
       "4          ...  --  --               2020      1    1     5           590  \n",
       "\n",
       "[5 rows x 21 columns]"
      ]
     },
     "execution_count": 7,
     "metadata": {},
     "output_type": "execute_result"
    }
   ],
   "source": [
    "test2.head()"
   ]
  },
  {
   "cell_type": "markdown",
   "metadata": {},
   "source": [
    "## 例3"
   ]
  },
  {
   "cell_type": "code",
   "execution_count": 30,
   "metadata": {
    "scrolled": true
   },
   "outputs": [
    {
     "name": "stdout",
     "output_type": "stream",
     "text": [
      "(338, 15)\n"
     ]
    }
   ],
   "source": [
    "location_master = pd.read_csv('LocationMaster.csv')#, encoding='sjis')\n",
    "print(location_master.shape)"
   ]
  },
  {
   "cell_type": "code",
   "execution_count": 31,
   "metadata": {},
   "outputs": [
    {
     "data": {
      "text/html": [
       "<div>\n",
       "<style scoped>\n",
       "    .dataframe tbody tr th:only-of-type {\n",
       "        vertical-align: middle;\n",
       "    }\n",
       "\n",
       "    .dataframe tbody tr th {\n",
       "        vertical-align: top;\n",
       "    }\n",
       "\n",
       "    .dataframe thead th {\n",
       "        text-align: right;\n",
       "    }\n",
       "</style>\n",
       "<table border=\"1\" class=\"dataframe\">\n",
       "  <thead>\n",
       "    <tr style=\"text-align: right;\">\n",
       "      <th></th>\n",
       "      <th>地点番号</th>\n",
       "      <th>管区コード</th>\n",
       "      <th>アメダス府県コード</th>\n",
       "      <th>観測所区分</th>\n",
       "      <th>カナ地点名</th>\n",
       "      <th>緯度</th>\n",
       "      <th>経度</th>\n",
       "      <th>漢字地点名</th>\n",
       "      <th>漢字官署名</th>\n",
       "      <th>都道府県振興局名</th>\n",
       "      <th>block_no</th>\n",
       "      <th>latitude</th>\n",
       "      <th>longtitude</th>\n",
       "      <th>府県名</th>\n",
       "      <th>番号</th>\n",
       "    </tr>\n",
       "  </thead>\n",
       "  <tbody>\n",
       "    <tr>\n",
       "      <th>0</th>\n",
       "      <td>401</td>\n",
       "      <td>1</td>\n",
       "      <td>11.0</td>\n",
       "      <td>4.0</td>\n",
       "      <td>ﾜﾂｶﾅｲ</td>\n",
       "      <td>452490</td>\n",
       "      <td>1414070</td>\n",
       "      <td>稚内</td>\n",
       "      <td>稚内地方気象台</td>\n",
       "      <td>宗谷支庁</td>\n",
       "      <td>47401</td>\n",
       "      <td>45.415</td>\n",
       "      <td>141.678333</td>\n",
       "      <td>NaN</td>\n",
       "      <td>NaN</td>\n",
       "    </tr>\n",
       "    <tr>\n",
       "      <th>1</th>\n",
       "      <td>401</td>\n",
       "      <td>1</td>\n",
       "      <td>11.0</td>\n",
       "      <td>4.0</td>\n",
       "      <td>ﾜﾂｶﾅｲ</td>\n",
       "      <td>452490</td>\n",
       "      <td>1414070</td>\n",
       "      <td>稚内</td>\n",
       "      <td>稚内地方気象台</td>\n",
       "      <td>宗谷総合</td>\n",
       "      <td>47401</td>\n",
       "      <td>45.415</td>\n",
       "      <td>141.678333</td>\n",
       "      <td>NaN</td>\n",
       "      <td>NaN</td>\n",
       "    </tr>\n",
       "    <tr>\n",
       "      <th>2</th>\n",
       "      <td>402</td>\n",
       "      <td>1</td>\n",
       "      <td>11.0</td>\n",
       "      <td>5.0</td>\n",
       "      <td>ｷﾀﾐｴｻｼ</td>\n",
       "      <td>445640</td>\n",
       "      <td>1423510</td>\n",
       "      <td>北見枝幸</td>\n",
       "      <td>北見枝幸測候所</td>\n",
       "      <td>宗谷支庁</td>\n",
       "      <td>47402</td>\n",
       "      <td>44.940</td>\n",
       "      <td>142.585000</td>\n",
       "      <td>NaN</td>\n",
       "      <td>NaN</td>\n",
       "    </tr>\n",
       "  </tbody>\n",
       "</table>\n",
       "</div>"
      ],
      "text/plain": [
       "   地点番号  管区コード  アメダス府県コード  観測所区分   カナ地点名      緯度       経度 漢字地点名    漢字官署名  \\\n",
       "0   401      1       11.0    4.0   ﾜﾂｶﾅｲ  452490  1414070    稚内  稚内地方気象台   \n",
       "1   401      1       11.0    4.0   ﾜﾂｶﾅｲ  452490  1414070    稚内  稚内地方気象台   \n",
       "2   402      1       11.0    5.0  ｷﾀﾐｴｻｼ  445640  1423510  北見枝幸  北見枝幸測候所   \n",
       "\n",
       "  都道府県振興局名  block_no  latitude  longtitude  府県名  番号  \n",
       "0     宗谷支庁     47401    45.415  141.678333  NaN NaN  \n",
       "1     宗谷総合     47401    45.415  141.678333  NaN NaN  \n",
       "2     宗谷支庁     47402    44.940  142.585000  NaN NaN  "
      ]
     },
     "execution_count": 31,
     "metadata": {},
     "output_type": "execute_result"
    }
   ],
   "source": [
    "location_master.head(3)"
   ]
  },
  {
   "cell_type": "code",
   "execution_count": 32,
   "metadata": {},
   "outputs": [
    {
     "name": "stdout",
     "output_type": "stream",
     "text": [
      "(338, 15)\n",
      "(338, 3)\n",
      "(136, 4)\n"
     ]
    }
   ],
   "source": [
    "# 地点番号 -> point_number, block_no(都市番号), 番号 -> number(都道府県番号)\n",
    "\n",
    "location_master = location_master.rename(columns={'地点番号':'point_number', '番号':'number'})\n",
    "print(location_master.shape)\n",
    "location_master = location_master[['point_number','block_no','number']]\n",
    "print(location_master.shape)\n",
    "location_master = location_master[location_master['number'].notna()].drop_duplicates().reset_index()\n",
    "print(location_master.shape)"
   ]
  },
  {
   "cell_type": "code",
   "execution_count": 33,
   "metadata": {},
   "outputs": [
    {
     "data": {
      "text/html": [
       "<div>\n",
       "<style scoped>\n",
       "    .dataframe tbody tr th:only-of-type {\n",
       "        vertical-align: middle;\n",
       "    }\n",
       "\n",
       "    .dataframe tbody tr th {\n",
       "        vertical-align: top;\n",
       "    }\n",
       "\n",
       "    .dataframe thead th {\n",
       "        text-align: right;\n",
       "    }\n",
       "</style>\n",
       "<table border=\"1\" class=\"dataframe\">\n",
       "  <thead>\n",
       "    <tr style=\"text-align: right;\">\n",
       "      <th></th>\n",
       "      <th>index</th>\n",
       "      <th>point_number</th>\n",
       "      <th>block_no</th>\n",
       "      <th>number</th>\n",
       "    </tr>\n",
       "  </thead>\n",
       "  <tbody>\n",
       "    <tr>\n",
       "      <th>0</th>\n",
       "      <td>68</td>\n",
       "      <td>512</td>\n",
       "      <td>47512</td>\n",
       "      <td>33.0</td>\n",
       "    </tr>\n",
       "    <tr>\n",
       "      <th>1</th>\n",
       "      <td>70</td>\n",
       "      <td>520</td>\n",
       "      <td>47520</td>\n",
       "      <td>35.0</td>\n",
       "    </tr>\n",
       "    <tr>\n",
       "      <th>2</th>\n",
       "      <td>72</td>\n",
       "      <td>570</td>\n",
       "      <td>47570</td>\n",
       "      <td>36.0</td>\n",
       "    </tr>\n",
       "  </tbody>\n",
       "</table>\n",
       "</div>"
      ],
      "text/plain": [
       "   index  point_number  block_no  number\n",
       "0     68           512     47512    33.0\n",
       "1     70           520     47520    35.0\n",
       "2     72           570     47570    36.0"
      ]
     },
     "execution_count": 33,
     "metadata": {},
     "output_type": "execute_result"
    }
   ],
   "source": [
    "location_master.head(3)"
   ]
  },
  {
   "cell_type": "code",
   "execution_count": null,
   "metadata": {},
   "outputs": [],
   "source": []
  },
  {
   "cell_type": "code",
   "execution_count": 34,
   "metadata": {},
   "outputs": [
    {
     "data": {
      "text/plain": [
       "[[0, 0, 1, 2, 3, 4, 5],\n",
       " [6, 7, 8, 9, 10, 11, 12],\n",
       " [13, 14, 15, 16, 17, 18, 19],\n",
       " [20, 21, 22, 23, 24, 25, 26],\n",
       " [27, 28, 29, 30, 31, 0, 0]]"
      ]
     },
     "execution_count": 34,
     "metadata": {},
     "output_type": "execute_result"
    }
   ],
   "source": [
    "c = calendar.Calendar(firstweekday=0)\n",
    "c.monthdayscalendar(2020, 1)"
   ]
  },
  {
   "cell_type": "code",
   "execution_count": 35,
   "metadata": {},
   "outputs": [],
   "source": [
    "def return_y_m_d_tuple_list(y, m):\n",
    "    days_tmp = list(np.array(c.monthdayscalendar(y, m)).flatten())\n",
    "    days = [day for day in days_tmp if day!=0]\n",
    "    return [(y, m, d) for d in days]"
   ]
  },
  {
   "cell_type": "code",
   "execution_count": 36,
   "metadata": {},
   "outputs": [
    {
     "data": {
      "text/plain": [
       "152"
      ]
     },
     "execution_count": 36,
     "metadata": {},
     "output_type": "execute_result"
    }
   ],
   "source": [
    "day_list = return_y_m_d_tuple_list(2019,12)\n",
    "\n",
    "for i in return_y_m_d_tuple_list(2020,1):\n",
    "    day_list.append(i)\n",
    "for i in return_y_m_d_tuple_list(2020,2):\n",
    "    day_list.append(i)\n",
    "for i in return_y_m_d_tuple_list(2020,3):\n",
    "    day_list.append(i)\n",
    "for i in return_y_m_d_tuple_list(2020,4):\n",
    "    day_list.append(i)\n",
    "len(day_list)"
   ]
  },
  {
   "cell_type": "code",
   "execution_count": 37,
   "metadata": {},
   "outputs": [
    {
     "data": {
      "text/plain": [
       "127"
      ]
     },
     "execution_count": 37,
     "metadata": {},
     "output_type": "execute_result"
    }
   ],
   "source": [
    "day_list_final = day_list[18:145]    # 本番用データ期間\n",
    "len(day_list_final)"
   ]
  },
  {
   "cell_type": "code",
   "execution_count": 38,
   "metadata": {},
   "outputs": [
    {
     "data": {
      "text/plain": [
       "[(2019, 12, 19), (2019, 12, 20), (2019, 12, 21)]"
      ]
     },
     "execution_count": 38,
     "metadata": {},
     "output_type": "execute_result"
    }
   ],
   "source": [
    "day_list_final[:3]"
   ]
  },
  {
   "cell_type": "code",
   "execution_count": 39,
   "metadata": {},
   "outputs": [
    {
     "data": {
      "text/html": [
       "<div>\n",
       "<style scoped>\n",
       "    .dataframe tbody tr th:only-of-type {\n",
       "        vertical-align: middle;\n",
       "    }\n",
       "\n",
       "    .dataframe tbody tr th {\n",
       "        vertical-align: top;\n",
       "    }\n",
       "\n",
       "    .dataframe thead th {\n",
       "        text-align: right;\n",
       "    }\n",
       "</style>\n",
       "<table border=\"1\" class=\"dataframe\">\n",
       "  <thead>\n",
       "    <tr style=\"text-align: right;\">\n",
       "      <th></th>\n",
       "      <th>index</th>\n",
       "      <th>point_number</th>\n",
       "      <th>block_no</th>\n",
       "      <th>number</th>\n",
       "    </tr>\n",
       "  </thead>\n",
       "  <tbody>\n",
       "    <tr>\n",
       "      <th>0</th>\n",
       "      <td>68</td>\n",
       "      <td>512</td>\n",
       "      <td>47512</td>\n",
       "      <td>33.0</td>\n",
       "    </tr>\n",
       "    <tr>\n",
       "      <th>1</th>\n",
       "      <td>70</td>\n",
       "      <td>520</td>\n",
       "      <td>47520</td>\n",
       "      <td>35.0</td>\n",
       "    </tr>\n",
       "    <tr>\n",
       "      <th>2</th>\n",
       "      <td>72</td>\n",
       "      <td>570</td>\n",
       "      <td>47570</td>\n",
       "      <td>36.0</td>\n",
       "    </tr>\n",
       "  </tbody>\n",
       "</table>\n",
       "</div>"
      ],
      "text/plain": [
       "   index  point_number  block_no  number\n",
       "0     68           512     47512    33.0\n",
       "1     70           520     47520    35.0\n",
       "2     72           570     47570    36.0"
      ]
     },
     "execution_count": 39,
     "metadata": {},
     "output_type": "execute_result"
    }
   ],
   "source": [
    "location_master_TEST = location_master.iloc[:3,:]\n",
    "location_master_TEST"
   ]
  },
  {
   "cell_type": "code",
   "execution_count": 42,
   "metadata": {
    "scrolled": false
   },
   "outputs": [
    {
     "name": "stdout",
     "output_type": "stream",
     "text": [
      "2020-08-21 08:58:22.383829\n",
      "Point:512, 都道府県:33, 都市:47512, Year:2019, Month:12, Day:19\n",
      "Point:512, 都道府県:33, 都市:47512, Year:2019, Month:12, Day:20\n",
      "Point:512, 都道府県:33, 都市:47512, Year:2019, Month:12, Day:21\n",
      "Point:512, 都道府県:33, 都市:47512, Year:2019, Month:12, Day:22\n",
      "2020-08-21 08:59:01.991377\n",
      "Point:520, 都道府県:35, 都市:47520, Year:2019, Month:12, Day:19\n",
      "Point:520, 都道府県:35, 都市:47520, Year:2019, Month:12, Day:20\n",
      "Point:520, 都道府県:35, 都市:47520, Year:2019, Month:12, Day:21\n",
      "Point:520, 都道府県:35, 都市:47520, Year:2019, Month:12, Day:22\n",
      "2020-08-21 08:59:41.269621\n",
      "Point:570, 都道府県:36, 都市:47570, Year:2019, Month:12, Day:19\n",
      "Point:570, 都道府県:36, 都市:47570, Year:2019, Month:12, Day:20\n",
      "Point:570, 都道府県:36, 都市:47570, Year:2019, Month:12, Day:21\n",
      "Point:570, 都道府県:36, 都市:47570, Year:2019, Month:12, Day:22\n"
     ]
    }
   ],
   "source": [
    "for row_index in range(location_master_TEST.shape[0]):   # DataFrameの行でループ\n",
    "    #print(row_index)\n",
    "    #print(location_master_TEST.iloc[row_index,:])\n",
    "    \n",
    "    print(datetime.datetime.now())\n",
    "    \n",
    "    point = location_master_TEST['point_number'][row_index]\n",
    "    prec = location_master_TEST['number'][row_index]\n",
    "    block = location_master_TEST['block_no'][row_index]\n",
    "    \n",
    "    # テスト実施。4日分のみ（day_list_final[:4]）\n",
    "    dataframe_tmp = gw.get_one_location_all_day_weather(point_num=point, prec_no=prec, block_no=block, year_month_day=day_list_final[:4])\n",
    "    \n",
    "    save_file_name = str(point) + '.csv'\n",
    "    #dataframe_tmp.to_csv('../out_sample/'+save_file_name, index=False)    # ファイル保存"
   ]
  },
  {
   "cell_type": "code",
   "execution_count": 43,
   "metadata": {},
   "outputs": [
    {
     "data": {
      "text/html": [
       "<div>\n",
       "<style scoped>\n",
       "    .dataframe tbody tr th:only-of-type {\n",
       "        vertical-align: middle;\n",
       "    }\n",
       "\n",
       "    .dataframe tbody tr th {\n",
       "        vertical-align: top;\n",
       "    }\n",
       "\n",
       "    .dataframe thead th {\n",
       "        text-align: right;\n",
       "    }\n",
       "</style>\n",
       "<table border=\"1\" class=\"dataframe\">\n",
       "  <thead>\n",
       "    <tr style=\"text-align: right;\">\n",
       "      <th></th>\n",
       "      <th>現地気圧(hPa)</th>\n",
       "      <th>海面気圧(hPa)</th>\n",
       "      <th>降水量(mm)</th>\n",
       "      <th>気温(℃)</th>\n",
       "      <th>露点温度(℃)</th>\n",
       "      <th>蒸気圧(hPa)</th>\n",
       "      <th>湿度(％)</th>\n",
       "      <th>風速(m/s)</th>\n",
       "      <th>風向</th>\n",
       "      <th>日照時間(h)</th>\n",
       "      <th>...</th>\n",
       "      <th>降雪</th>\n",
       "      <th>積雪</th>\n",
       "      <th>天気</th>\n",
       "      <th>雲量</th>\n",
       "      <th>視程(km)</th>\n",
       "      <th>year</th>\n",
       "      <th>month</th>\n",
       "      <th>day</th>\n",
       "      <th>time</th>\n",
       "      <th>point_number</th>\n",
       "    </tr>\n",
       "  </thead>\n",
       "  <tbody>\n",
       "    <tr>\n",
       "      <th>0</th>\n",
       "      <td>993.5</td>\n",
       "      <td>1019.8</td>\n",
       "      <td>--</td>\n",
       "      <td>5.0</td>\n",
       "      <td>1.7</td>\n",
       "      <td>6.9</td>\n",
       "      <td>79</td>\n",
       "      <td>4.6</td>\n",
       "      <td>西</td>\n",
       "      <td></td>\n",
       "      <td>...</td>\n",
       "      <td>--</td>\n",
       "      <td>--</td>\n",
       "      <td></td>\n",
       "      <td></td>\n",
       "      <td>20.0</td>\n",
       "      <td>2019</td>\n",
       "      <td>12</td>\n",
       "      <td>19</td>\n",
       "      <td>1</td>\n",
       "      <td>570</td>\n",
       "    </tr>\n",
       "    <tr>\n",
       "      <th>1</th>\n",
       "      <td>993.8</td>\n",
       "      <td>1020.1</td>\n",
       "      <td>--</td>\n",
       "      <td>4.8</td>\n",
       "      <td>1.5</td>\n",
       "      <td>6.8</td>\n",
       "      <td>79</td>\n",
       "      <td>3.1</td>\n",
       "      <td>西</td>\n",
       "      <td></td>\n",
       "      <td>...</td>\n",
       "      <td>--</td>\n",
       "      <td>--</td>\n",
       "      <td></td>\n",
       "      <td></td>\n",
       "      <td>20.0</td>\n",
       "      <td>2019</td>\n",
       "      <td>12</td>\n",
       "      <td>19</td>\n",
       "      <td>2</td>\n",
       "      <td>570</td>\n",
       "    </tr>\n",
       "    <tr>\n",
       "      <th>2</th>\n",
       "      <td>994.6</td>\n",
       "      <td>1020.9</td>\n",
       "      <td>--</td>\n",
       "      <td>4.5</td>\n",
       "      <td>1.0</td>\n",
       "      <td>6.6</td>\n",
       "      <td>78</td>\n",
       "      <td>3.8</td>\n",
       "      <td>西</td>\n",
       "      <td></td>\n",
       "      <td>...</td>\n",
       "      <td>--</td>\n",
       "      <td>--</td>\n",
       "      <td></td>\n",
       "      <td></td>\n",
       "      <td>20.0</td>\n",
       "      <td>2019</td>\n",
       "      <td>12</td>\n",
       "      <td>19</td>\n",
       "      <td>3</td>\n",
       "      <td>570</td>\n",
       "    </tr>\n",
       "    <tr>\n",
       "      <th>3</th>\n",
       "      <td>994.5</td>\n",
       "      <td>1020.9</td>\n",
       "      <td>--</td>\n",
       "      <td>4.3</td>\n",
       "      <td>0.6</td>\n",
       "      <td>6.4</td>\n",
       "      <td>77</td>\n",
       "      <td>3.9</td>\n",
       "      <td>西</td>\n",
       "      <td></td>\n",
       "      <td>...</td>\n",
       "      <td>--</td>\n",
       "      <td>--</td>\n",
       "      <td></td>\n",
       "      <td></td>\n",
       "      <td>20.0</td>\n",
       "      <td>2019</td>\n",
       "      <td>12</td>\n",
       "      <td>19</td>\n",
       "      <td>4</td>\n",
       "      <td>570</td>\n",
       "    </tr>\n",
       "    <tr>\n",
       "      <th>4</th>\n",
       "      <td>994.7</td>\n",
       "      <td>1021.1</td>\n",
       "      <td>--</td>\n",
       "      <td>4.2</td>\n",
       "      <td>0.5</td>\n",
       "      <td>6.4</td>\n",
       "      <td>77</td>\n",
       "      <td>3.2</td>\n",
       "      <td>西南西</td>\n",
       "      <td></td>\n",
       "      <td>...</td>\n",
       "      <td>--</td>\n",
       "      <td>--</td>\n",
       "      <td></td>\n",
       "      <td></td>\n",
       "      <td>20.0</td>\n",
       "      <td>2019</td>\n",
       "      <td>12</td>\n",
       "      <td>19</td>\n",
       "      <td>5</td>\n",
       "      <td>570</td>\n",
       "    </tr>\n",
       "  </tbody>\n",
       "</table>\n",
       "<p>5 rows × 21 columns</p>\n",
       "</div>"
      ],
      "text/plain": [
       "  現地気圧(hPa) 海面気圧(hPa) 降水量(mm) 気温(℃) 露点温度(℃) 蒸気圧(hPa) 湿度(％) 風速(m/s)   風向  \\\n",
       "0     993.5    1019.8      --   5.0     1.7      6.9    79     4.6    西   \n",
       "1     993.8    1020.1      --   4.8     1.5      6.8    79     3.1    西   \n",
       "2     994.6    1020.9      --   4.5     1.0      6.6    78     3.8    西   \n",
       "3     994.5    1020.9      --   4.3     0.6      6.4    77     3.9    西   \n",
       "4     994.7    1021.1      --   4.2     0.5      6.4    77     3.2  西南西   \n",
       "\n",
       "  日照時間(h)  ...  降雪  積雪 天気 雲量 視程(km)  year  month  day  time  point_number  \n",
       "0          ...  --  --         20.0  2019     12   19     1           570  \n",
       "1          ...  --  --         20.0  2019     12   19     2           570  \n",
       "2          ...  --  --         20.0  2019     12   19     3           570  \n",
       "3          ...  --  --         20.0  2019     12   19     4           570  \n",
       "4          ...  --  --         20.0  2019     12   19     5           570  \n",
       "\n",
       "[5 rows x 21 columns]"
      ]
     },
     "execution_count": 43,
     "metadata": {},
     "output_type": "execute_result"
    }
   ],
   "source": [
    "dataframe_tmp.head()"
   ]
  },
  {
   "cell_type": "code",
   "execution_count": null,
   "metadata": {},
   "outputs": [],
   "source": []
  }
 ],
 "metadata": {
  "kernelspec": {
   "display_name": "Python 3",
   "language": "python",
   "name": "python3"
  },
  "language_info": {
   "codemirror_mode": {
    "name": "ipython",
    "version": 3
   },
   "file_extension": ".py",
   "mimetype": "text/x-python",
   "name": "python",
   "nbconvert_exporter": "python",
   "pygments_lexer": "ipython3",
   "version": "3.7.7"
  }
 },
 "nbformat": 4,
 "nbformat_minor": 4
}
